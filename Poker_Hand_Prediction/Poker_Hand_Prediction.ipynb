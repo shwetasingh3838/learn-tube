{
 "cells": [
  {
   "cell_type": "markdown",
   "metadata": {},
   "source": [
    "# Predicting Poker Hand"
   ]
  },
  {
   "cell_type": "markdown",
   "metadata": {
    "id": "fRbHjr7_h15g"
   },
   "source": [
    "### STEP 1: IMPORTING LIBRARIES"
   ]
  },
  {
   "cell_type": "code",
   "execution_count": null,
   "metadata": {},
   "outputs": [],
   "source": [
    "import pandas as pd\n",
    "\n",
    "import matplotlib.pyplot as plt\n",
    "\n",
    "%matplotlib inline"
   ]
  },
  {
   "cell_type": "markdown",
   "metadata": {},
   "source": [
    "### STEP 2: LOADING THE DATASET"
   ]
  },
  {
   "cell_type": "code",
   "execution_count": null,
   "metadata": {
    "scrolled": true
   },
   "outputs": [],
   "source": [
    "poker_df = pd.read_csv('Data/poker_hand_test.data')\n",
    "poker_df "
   ]
  },
  {
   "cell_type": "markdown",
   "metadata": {},
   "source": [
    "### STEP 3: ANALYSING AND PRE-PROCESSING THE DATA\n",
    "\n",
    "### STEP 4: CHANGING NAMES OF COLUMN ACCORDING TO THE REFERENCES PROVIDED FROM WHERE THE DATASET IS OBTAINED"
   ]
  },
  {
   "cell_type": "code",
   "execution_count": null,
   "metadata": {
    "scrolled": true
   },
   "outputs": [],
   "source": [
    "poker_df.columns = ['first_suit', 'first_rank', 'second_suit', 'second_rank', 'third_suit', 'third_rank',\n",
    "'fourth_suit', 'fourth_rank', 'fifth_suit', 'fifth_rank', 'hand']\n",
    "\n",
    "labels = ['zilch', 'one_pair', 'two_pair', 'three_of_a_kind', 'straight', 'flush', 'full_house',\n",
    "'four_of_a_kind', 'straight_flush', 'royal_flush']\n",
    "\n",
    "poker_df"
   ]
  },
  {
   "cell_type": "code",
   "execution_count": null,
   "metadata": {},
   "outputs": [],
   "source": [
    "### 4) SEPERATING THE DATASET INTO FEATURES (X) AND TARGET VALUES (y)\n",
    "X = poker_df.iloc[:, 0:9]\n",
    "y = poker_df.hand"
   ]
  },
  {
   "cell_type": "markdown",
   "metadata": {},
   "source": [
    "### STEP 5: VISUALIZING WHETHER CLASS BALANCE IS PRESENT IN OUR DATASET OR NOT"
   ]
  },
  {
   "cell_type": "code",
   "execution_count": null,
   "metadata": {},
   "outputs": [],
   "source": [
    "from yellowbrick.classifier import ClassBalance, ROCAUC, ClassPredictionError\n",
    "\n",
    "balance = ClassBalance(size=(1080,720), labels=labels)\n",
    "\n",
    "balance.fit(y)\n",
    "\n",
    "balance.show()"
   ]
  },
  {
   "cell_type": "markdown",
   "metadata": {},
   "source": [
    "##### THUS THERE IS CLASS IMBALANCE PRESENT IN OUR DATASET, ANS WE MUST REMOVE IT\n",
    "\n",
    "### STEP 6: UP-SAMPLING FROM MINORITY CLASSES"
   ]
  },
  {
   "cell_type": "code",
   "execution_count": null,
   "metadata": {},
   "outputs": [],
   "source": [
    "poker_df.loc[poker_df['hand']>=5, 'hand'] = 5\n",
    "\n",
    "y = poker_df.hand\n",
    "\n",
    "labels = ['zilch', 'one_pair', 'two_pair', 'three_of_a_kind', 'straight', 'flush_or_better']\n",
    "\n",
    "balance = ClassBalance(size=(1080,720), labels=labels)\n",
    "\n",
    "balance.fit(y)\n",
    "\n",
    "balance.show()"
   ]
  },
  {
   "cell_type": "markdown",
   "metadata": {},
   "source": [
    "### STEP 7: TRAINING THE RANDOM FORESTS CLASSIFIER"
   ]
  },
  {
   "cell_type": "code",
   "execution_count": null,
   "metadata": {},
   "outputs": [],
   "source": [
    "from sklearn.model_selection import train_test_split\n",
    "from sklearn.linear_model import LogisticRegression\n",
    "from sklearn.svm import SVC\n",
    "from sklearn.ensemble import RandomForestClassifier\n",
    "from sklearn.neural_network import MLPClassifier\n",
    "\n",
    "\n",
    "X_train, X_test, y_train, y_test = train_test_split(X, y, test_size = 0.5)\n",
    "\n",
    "#CLF = SVC()\n",
    "CLF = MLPClassifier(solver = 'adam', alpha = 0.05, hidden_layer_sizes=(50, 100, 50), learning_rate = 'adaptive', activation = 'tanh')\n",
    "\n",
    "CLF.fit(X_train, y_train)"
   ]
  },
  {
   "cell_type": "markdown",
   "metadata": {},
   "source": [
    "### STEP 8: EVALUATING THE MODEL"
   ]
  },
  {
   "cell_type": "code",
   "execution_count": null,
   "metadata": {},
   "outputs": [],
   "source": [
    "#### A) CLASSIFICATION ACCURACY"
   ]
  },
  {
   "cell_type": "code",
   "execution_count": null,
   "metadata": {},
   "outputs": [],
   "source": [
    "from sklearn.metrics import accuracy_score, roc_auc_score, f1_score, recall_score, precision_score\n",
    "\n",
    "y_pred_test = CLF.predict(X_test)\n",
    "y_pred_train = CLF.predict(X_train)\n",
    "\n",
    "print (\"Accuracy of the Model on Train Data is : {}\".format(accuracy_score(y_train, y_pred_train)))\n",
    "print (\"Accuracy of the Model on Test Data is : {}\".format(accuracy_score(y_test, y_pred_test)))"
   ]
  },
  {
   "cell_type": "code",
   "execution_count": null,
   "metadata": {},
   "outputs": [],
   "source": [
    "### B) ROC CURVE AND AUC:\n",
    "from yellowbrick.classifier import ROCAUC\n",
    "\n",
    "rocauc = ROCAUC(CLF, size =(1080, 720), classes = labels)\n",
    "\n",
    "rocauc.score(X_test, y_test)\n",
    "rocauc.show()"
   ]
  },
  {
   "cell_type": "markdown",
   "metadata": {},
   "source": [
    "### STEP 9: CLASSIFICATION REPORT HEATMAP"
   ]
  },
  {
   "cell_type": "code",
   "execution_count": null,
   "metadata": {},
   "outputs": [],
   "source": [
    "from yellowbrick.classifier import ClassificationReport\n",
    "\n",
    "report = ClassificationReport(CLF, size = (720, 640), classes = labels, cmap = 'PuBu')\n",
    "report.score(X_test, y_test)\n",
    "report.show()"
   ]
  },
  {
   "cell_type": "markdown",
   "metadata": {},
   "source": [
    "### STEP 10: CLASS PREDICTION ERROR"
   ]
  },
  {
   "cell_type": "code",
   "execution_count": null,
   "metadata": {},
   "outputs": [],
   "source": [
    "error = ClassPredictionError(CLF, size= [1080, 720], classes = labels)\n",
    "error.score(X_test, y_test)\n",
    "error.poof()"
   ]
  }
 ],
 "metadata": {
  "kernelspec": {
   "display_name": "Python 3",
   "language": "python",
   "name": "python3"
  },
  "language_info": {
   "codemirror_mode": {
    "name": "ipython",
    "version": 3
   },
   "file_extension": ".py",
   "mimetype": "text/x-python",
   "name": "python",
   "nbconvert_exporter": "python",
   "pygments_lexer": "ipython3",
   "version": "3.12.4"
  }
 },
 "nbformat": 4,
 "nbformat_minor": 2
}
